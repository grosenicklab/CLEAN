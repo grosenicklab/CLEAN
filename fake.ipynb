{
 "cells": [
  {
   "cell_type": "markdown",
   "id": "f1664883-e4df-456e-8f53-6dc6a896d96f",
   "metadata": {},
   "source": [
    "### Imports and settings"
   ]
  },
  {
   "cell_type": "code",
   "execution_count": 1,
   "id": "4b0aed94-3b61-4a37-a6f7-e138e7427d1c",
   "metadata": {},
   "outputs": [],
   "source": [
    "import mne\n",
    "import numpy as np\n",
    "import os\n",
    "import matplotlib.pyplot as plt\n",
    "import random\n",
    "\n",
    "from mne import Epochs, compute_covariance, find_events, make_ad_hoc_cov\n",
    "from mne.datasets import sample\n",
    "from mne.simulation import (\n",
    "    add_ecg,\n",
    "    add_eog,\n",
    "    add_noise,\n",
    "    simulate_raw,\n",
    "    simulate_sparse_stc,)"
   ]
  },
  {
   "cell_type": "markdown",
   "id": "9a6d19ce-2aa0-443e-a627-90cbda4d1c45",
   "metadata": {},
   "source": [
    "### Load real data as template"
   ]
  },
  {
   "cell_type": "code",
   "execution_count": 23,
   "id": "1c9ffba2-c57c-4c40-8a08-c9b0b2c084e7",
   "metadata": {},
   "outputs": [
    {
     "name": "stdout",
     "output_type": "stream",
     "text": [
      "Reading /Users/Bella/Desktop/Grosenick_Lab/eeg_patient_data/mdd_dlpfc/subject9_m191_dlpfc_58/mne/m191_day1_hplp_epo.fif ...\n",
      "    Found the data of interest:\n",
      "        t =       0.00 ...      95.00 ms\n",
      "        0 CTF compensation matrices available\n",
      "Not setting metadata\n",
      "600 matching events found\n",
      "No baseline correction applied\n",
      "0 projection items activated\n",
      "EEG channel type selected for re-referencing\n",
      "Adding average EEG reference projection.\n",
      "1 projection items deactivated\n",
      "Average reference projection was added, but has not been applied yet. Use the apply_proj method to apply it.\n",
      "Reading EGI MFF Header from /Users/Bella/Desktop/Grosenick_Lab/eeg_patient_data/mdd_dlpfc/subject9_m191_dlpfc_58/m191_dlpfc_day1/m191_dlpfc_day1_treatment_20230424_021417.mff...\n",
      "    Reading events ...\n",
      "    Assembling measurement info ...\n",
      "    Synthesizing trigger channel \"STI 014\" ...\n",
      "    Excluding events {} ...\n",
      "Reading 0 ... 720329  =      0.000 ...   720.329 secs...\n",
      "600 events found on stim channel DIN1\n",
      "Event IDs: [1]\n"
     ]
    }
   ],
   "source": [
    "epochs_filepath = '/Users/Bella/Desktop/Grosenick_Lab/eeg_patient_data/mdd_dlpfc/subject9_m191_dlpfc_58/mne/m191_day1_hplp_epo.fif'\n",
    "raw_filepath = '/Users/Bella/Desktop/Grosenick_Lab/eeg_patient_data/mdd_dlpfc/subject9_m191_dlpfc_58/m191_dlpfc_day1/m191_dlpfc_day1_treatment_20230424_021417.mff'\n",
    "fwd_path = '/Users/Bella/mne_data/MNE-sample-data/MEG/sample/sample_audvis-meg-eeg-oct-6-fwd.fif'\n",
    "epoch_fif = mne.read_epochs(epochs_filepath)\n",
    "epoch_fif.set_eeg_reference(projection=True)\n",
    "raw = mne.io.read_raw_egi(raw_filepath, preload=True)\n",
    "raw_events = mne.find_events(raw, stim_channel=\"DIN1\")"
   ]
  },
  {
   "cell_type": "markdown",
   "id": "56536080-ab58-4e40-b56f-ca1bffa1d84b",
   "metadata": {},
   "source": [
    "### Define times array for simulated data (one epoch)"
   ]
  },
  {
   "cell_type": "code",
   "execution_count": 24,
   "id": "474a63b5-4f46-448d-9d54-deead7a4269a",
   "metadata": {},
   "outputs": [
    {
     "name": "stdout",
     "output_type": "stream",
     "text": [
      "[0.    0.005 0.01  0.015 0.02  0.025 0.03  0.035 0.04  0.045 0.05  0.055\n",
      " 0.06  0.065 0.07  0.075 0.08  0.085 0.09  0.095]\n",
      "[ 0.00000000e+00  3.09016994e-01  5.87785252e-01  8.09016994e-01\n",
      "  9.51056516e-01  1.00000000e+00  9.51056516e-01  8.09016994e-01\n",
      "  5.87785252e-01  3.09016994e-01  1.22464680e-16 -3.09016994e-01\n",
      " -5.87785252e-01 -8.09016994e-01 -9.51056516e-01 -1.00000000e+00\n",
      " -9.51056516e-01 -8.09016994e-01 -5.87785252e-01 -3.09016994e-01]\n"
     ]
    }
   ],
   "source": [
    "random.seed(0)\n",
    "\n",
    "# Sampling frequency (in downsampled data)\n",
    "sfreq = 200\n",
    "\n",
    "# Define time points for creating array. Define sine and cosine waves\n",
    "times = np.linspace(0, 0.1, 20, endpoint=False)  # (0 sec, 0.1 sec, 20 samples/0.1 sec)\n",
    "print(times)\n",
    "alpha = np.sin(20 * np.pi * times) \n",
    "print(alpha)"
   ]
  },
  {
   "cell_type": "markdown",
   "id": "efe61fca-cb13-4979-a857-1bde3f680814",
   "metadata": {},
   "source": [
    "### Define waveforms"
   ]
  },
  {
   "cell_type": "code",
   "execution_count": 25,
   "id": "11a75c3a-eefb-472c-96b5-6b74ca71d9b4",
   "metadata": {},
   "outputs": [],
   "source": [
    "# Define wave frequencies\n",
    "# Conversion of frequency in Hz to angular frequency: Hz * 2pi = radians/sec\n",
    "# Multiplying this by the times vector scales the values over time\n",
    "\n",
    "### Does it matter which are sine vs cosine waves? Just changes initalization of wave in time\n",
    "alpha = np.sin(20 * np.pi * times)  # Alpha 10 Hz\n",
    "gammalow = np.cos(60 * np.pi * times)  # Low-range gamma 30 Hz\n",
    "gammahigh = np.sin(120 * np.pi * times)  # High-range gamma 60 Hz\n",
    "betahigh = np.cos(42 * np.pi * times)  # High-range beta 21 Hz\n",
    "betalow = np.sin(26 * np.pi * times)  # Low-range Beta 13 Hz\n",
    "theta = np.cos(10 * np.pi * times)  # Theta 5 Hz\n",
    "delta = np.sin(4 * np.pi * times)  # Delta 2 Hz\n",
    "deltaslow = np.cos(0.6 * np.pi * times)  # Delta ultra slow 0.3 Hz"
   ]
  },
  {
   "cell_type": "markdown",
   "id": "55a33eab-d591-4d8e-8fc8-ece88c636ab0",
   "metadata": {},
   "source": [
    "### Create data for 600 epochs, 256 channels"
   ]
  },
  {
   "cell_type": "code",
   "execution_count": 26,
   "id": "a27075f6-8f16-4621-92cd-7a0c30e864cf",
   "metadata": {},
   "outputs": [
    {
     "name": "stdout",
     "output_type": "stream",
     "text": [
      "(600, 20)\n",
      "(600, 256, 20)\n",
      "Not setting metadata\n",
      "600 matching events found\n",
      "Applying baseline correction (mode: mean)\n",
      "0 projection items activated\n"
     ]
    }
   ],
   "source": [
    "# Repeat each frequency component array 120 times\n",
    "# 5 epochs * 120 = 600 total epochs for each wave | 20 time points in times\n",
    "# Wave array shape = (600, 20)\n",
    "\n",
    "# set a new random.seed in between each \n",
    "alpha_data = np.array([random.uniform(0, 1) * alpha for _ in range(600)])\n",
    "gammalow_data = np.array([random.uniform(0, 1) * gammalow for _ in range(600)])\n",
    "gammahigh_data = np.array([random.uniform(0, 1) * gammahigh for _ in range(600)])\n",
    "betahigh_data = np.array([random.uniform(0, 1) * betahigh for _ in range(600)])\n",
    "betalow_data = np.array([random.uniform(0, 1) * betalow for _ in range(600)])\n",
    "theta_data = np.array([random.uniform(0, 1) * theta for _ in range(600)])\n",
    "delta_data = np.array([random.uniform(0, 1) * delta for _ in range(600)])\n",
    "deltaslow_data = np.array([random.uniform(0, 1) * deltaslow for _ in range(600)])\n",
    "\n",
    "print(alpha_data.shape)\n",
    "\n",
    "# Stack data along the second axis to get shape (600, 256, 20) where (epochs, channels, time points)\n",
    "# 8 wave arrays * 32 = 256 channels\n",
    "data_array = np.stack([alpha_data, gammalow_data, gammahigh_data, betahigh_data, betalow_data, theta_data, delta_data, deltaslow_data] * 32, axis=1)\n",
    "print(data_array.shape)\n",
    "\n",
    "# Create info object\n",
    "info = mne.create_info([f'EEG{n:03}' for n in range(1, 257)], ch_types='misc', sfreq=sfreq)\n",
    "\n",
    "# Convert array to epochs using raw events as template\n",
    "simulated_epochs = mne.EpochsArray(data_array, info, tmin=0, baseline= (0,0), events=raw_events)"
   ]
  },
  {
   "cell_type": "code",
   "execution_count": 27,
   "id": "01c47749-78c7-43e7-abce-1e80cd5be1d3",
   "metadata": {},
   "outputs": [
    {
     "name": "stdout",
     "output_type": "stream",
     "text": [
      "Using pyopengl with version 3.1.6\n"
     ]
    },
    {
     "data": {
      "text/plain": [
       "<mne_qt_browser._pg_figure.MNEQtBrowser at 0x2edbc6840>"
      ]
     },
     "execution_count": 27,
     "metadata": {},
     "output_type": "execute_result"
    }
   ],
   "source": [
    "simulated_epochs.plot(picks=\"misc\", title=\"simulated data\")"
   ]
  },
  {
   "cell_type": "code",
   "execution_count": null,
   "id": "ff9f8f73-5e36-4507-bb5a-940f5367d78e",
   "metadata": {},
   "outputs": [],
   "source": []
  }
 ],
 "metadata": {
  "kernelspec": {
   "display_name": "Python 3 (ipykernel)",
   "language": "python",
   "name": "python3"
  },
  "language_info": {
   "codemirror_mode": {
    "name": "ipython",
    "version": 3
   },
   "file_extension": ".py",
   "mimetype": "text/x-python",
   "name": "python",
   "nbconvert_exporter": "python",
   "pygments_lexer": "ipython3",
   "version": "3.12.2"
  }
 },
 "nbformat": 4,
 "nbformat_minor": 5
}
